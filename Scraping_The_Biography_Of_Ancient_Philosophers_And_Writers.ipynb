{
  "nbformat": 4,
  "nbformat_minor": 0,
  "metadata": {
    "colab": {
      "name": "Scraping The Biography Of Ancient Philosophers And Writers",
      "provenance": [],
      "collapsed_sections": [],
      "authorship_tag": "ABX9TyN58nIXg8Q3rVUGiR9Y7XQP",
      "include_colab_link": true
    },
    "kernelspec": {
      "name": "python3",
      "display_name": "Python 3"
    },
    "language_info": {
      "name": "python"
    }
  },
  "cells": [
    {
      "cell_type": "markdown",
      "metadata": {
        "id": "view-in-github",
        "colab_type": "text"
      },
      "source": [
        "<a href=\"https://colab.research.google.com/github/red21steven/Scraping-The-Biography-Of-Ancient-Philosophers-And-Writers/blob/main/Scraping_The_Biography_Of_Ancient_Philosophers_And_Writers.ipynb\" target=\"_parent\"><img src=\"https://colab.research.google.com/assets/colab-badge.svg\" alt=\"Open In Colab\"/></a>"
      ]
    },
    {
      "cell_type": "code",
      "metadata": {
        "colab": {
          "base_uri": "https://localhost:8080/"
        },
        "id": "kcs5Auxs6Z7Q",
        "outputId": "7b4c54f1-84cd-4a3f-9682-9a98a21177da"
      },
      "source": [
        "import requests\n",
        "from bs4 import BeautifulSoup\n",
        "\n",
        "n = ['/biography/Voltaire', '/biography/Jean-Jacques-Rousseau', '/biography/Saint-Augustine',  '/biography/Socrates', '/biography/John-Stuart-Mill',  '/biography/Thomas-Hobbes',  '/biography/Karl-Marx', '/biography/Benedict-de-Spinoza', '/biography/Adam-Smith', '/biography/John-Locke',  '/biography/Noam-Chomsky', '/biography/Immanuel-Kant', '/biography/Rene-Descartes', '/biography/Saint-Thomas-Aquinas', '/biography/Plato', '/biography/Francis-Bacon-Viscount-Saint-Alban', '/biography/Aristotle', '/biography/Georg-Wilhelm-Friedrich-Hegel', '/biography/David-Hume', '/biography/Niccolo-Machiavelli'] \n",
        "\n",
        "for i in n:\n",
        "\n",
        "  r = requests.get('https://www.britannica.com{}'.format(i))\n",
        "\n",
        "  soup = BeautifulSoup(r.text, 'html5lib')\n",
        "\n",
        "  info = []\n",
        "\n",
        "  name = soup.select_one('h1').text\n",
        "\n",
        "  sub_title = soup.select('.topic-identifier')[0].text\n",
        "\n",
        "  auth_info = soup.select('.topic-paragraph')[0].text\n",
        "\n",
        "  birth = soup.select('dl')[0]\n",
        "\n",
        "  birth_text = birth.select_one('dd').text\n",
        "\n",
        "  death = soup.select('dl')[1]\n",
        "\n",
        "  death_text = death.select_one('dd').text\n",
        "\n",
        "  image = soup.select('img')[2].get('src')\n",
        "\n",
        "  info.append({'Author Name': name, 'Occupation': sub_title, 'Image Link': image, 'Surmary About The Author': auth_info, 'Birth Date': birth_text, 'Date Of Demise': death_text })\n",
        "\n",
        "  print(info)\n"
      ],
      "execution_count": null,
      "outputs": [
        {
          "output_type": "stream",
          "text": [
            "[{'Author Name': 'Voltaire', 'Occupation': 'French philosopher and author', 'Image Link': 'https://cdn.britannica.com/s:250x250,c:crop/25/1325-004-9439D19D/Voltaire-Jean-Antoine-Houdon-Hermitage-St-Petersburg-Russia.jpg', 'Surmary About The Author': 'Voltaire, pseudonym of François-Marie Arouet,  (born November 21, 1694, Paris, France—died May 30, 1778, Paris), one of the greatest of all French writers. Although only a few of his works are still read, he continues to be held in worldwide repute as a courageous crusader against tyranny, bigotry, and cruelty. Through its critical capacity, wit, and satire, Voltaire’s work vigorously propagates an ideal of progress to which people of all nations have remained responsive. His long life spanned the last years of classicism and the eve of the revolutionary era, and during this age of transition his works and activities influenced the direction taken by European civilization.', 'Birth Date': 'November 21, 1694Paris, France', 'Date Of Demise': 'May 30, 1778 (aged 83)Paris, France(Anniversary tomorrow)'}]\n",
            "[{'Author Name': 'Jean-Jacques Rousseau', 'Occupation': 'Swiss-born French philosopher', 'Image Link': 'https://cdn.britannica.com/s:250x250,c:crop/18/60018-050-E8F7CB20/Jean-Jacques-Rousseau-pastels-Maurice-Quentin-de-La-Tour-1753.jpg', 'Surmary About The Author': 'Jean-Jacques Rousseau,  (born June 28, 1712, Geneva, Switzerland—died July 2, 1778, Ermenonville, France), Swiss-born philosopher, writer, and political theorist whose treatises and novels inspired the leaders of the French Revolution and the Romantic generation.', 'Birth Date': 'June 28, 1712Geneva, Switzerland', 'Date Of Demise': 'July 2, 1778 (aged 66)Ermenonville, France'}]\n",
            "[{'Author Name': 'St. Augustine', 'Occupation': 'Christian bishop and theologian', 'Image Link': 'https://cdn.britannica.com/s:690x388,c:crop/47/121647-050-1139A7A1/St-Augustine-Sandro-Botticelli-Florence-Church-of.jpg', 'Surmary About The Author': 'St. Augustine, also called Saint Augustine of Hippo, original Latin name Aurelius Augustinus,   (born November 13, 354, Tagaste, Numidia [now Souk Ahras, Algeria]—died August 28, 430, Hippo Regius [now Annaba, Algeria]; feast day August 28),  bishop of Hippo from 396 to 430, one of the Latin Fathers of the Church and perhaps the most significant Christian thinker after St. Paul. Augustine’s adaptation of classical thought to Christian teaching created a theological system of great power and lasting influence. His numerous written works, the most important of which are Confessions (c. 400) and The City of God (c. 413–426), shaped the practice of biblical exegesis and helped lay the foundation for much of medieval and modern Christian thought. In Roman Catholicism he is formally recognized as a doctor of the church.', 'Birth Date': 'November 13, 354Souk-Ahras, Africa', 'Date Of Demise': 'August 28, 430 (aged 75)Annaba, Algeria'}]\n",
            "[{'Author Name': 'Socrates', 'Occupation': 'Greek philosopher', 'Image Link': 'https://cdn.britannica.com/s:250x250,c:crop/69/75569-050-7AB67C4B/herm-Socrates-half-original-Greek-Capitoline-Museums.jpg', 'Surmary About The Author': 'Socrates,  (born c. 470 bce, Athens [Greece]—died 399 bce, Athens), ancient Greek philosopher whose way of life, character, and thought exerted a profound influence on Western philosophy.', 'Birth Date': 'c.\\xa0470 BCEAthens, ancient Greece', 'Date Of Demise': '399 BCEAthens, ancient Greece'}]\n",
            "[{'Author Name': 'John Stuart Mill', 'Occupation': 'British philosopher and economist', 'Image Link': 'https://cdn.britannica.com/s:250x250,c:crop/68/99068-050-BF33B0EB/John-Stuart-Mill-carte-de-visite-1884.jpg', 'Surmary About The Author': 'John Stuart Mill,  (born May 20, 1806, London, England—died May 8, 1873, Avignon, France), English philosopher, economist, and exponent of utilitarianism. He was prominent as a publicist in the reforming age of the 19th century, and remains of lasting interest as a logician and an ethical theorist.', 'Birth Date': 'May 20, 1806London, England', 'Date Of Demise': 'May 8, 1873 (aged 66)Avignon, France'}]\n",
            "[{'Author Name': 'Thomas Hobbes', 'Occupation': 'English philosopher', 'Image Link': 'https://cdn.britannica.com/marketing/300x90 On-site Climate Action ads-04.png', 'Surmary About The Author': 'Thomas Hobbes,  (born April 5, 1588, Westport, Wiltshire, England—died December 4, 1679, Hardwick Hall, Derbyshire), English philosopher, scientist, and historian, best known for his political philosophy, especially as articulated in his masterpiece Leviathan (1651). Hobbes viewed government primarily as a device for ensuring collective security. Political authority is justified by a hypothetical social contract among the many that vests in a sovereign person or entity the responsibility for the safety and well-being of all. In metaphysics, Hobbes defended materialism, the view that only material things are real. His scientific writings present all observed phenomena as the effects of matter in motion. Hobbes was not only a scientist in his own right but a great systematizer of the scientific findings of his contemporaries, including Galileo and Johannes Kepler. His enduring contribution is as a political philosopher who justified wide-ranging government powers on the basis of the self-interested consent of citizens.', 'Birth Date': 'April 5, 1588Westport, England', 'Date Of Demise': 'December 4, 1679 (aged 91)Hardwick Hall, England'}]\n",
            "[{'Author Name': 'Karl Marx', 'Occupation': 'German philosopher', 'Image Link': 'https://cdn.britannica.com/marketing/300x90 On-site Climate Action ads-04.png', 'Surmary About The Author': 'Karl Marx, in full Karl Heinrich Marx,  (born May 5, 1818, Trier, Rhine province, Prussia [Germany]—died March 14, 1883, London, England), revolutionary, sociologist, historian, and economist. He published (with Friedrich Engels) Manifest der Kommunistischen Partei (1848), commonly known as The Communist Manifesto, the most celebrated pamphlet in the history of the socialist movement. He also was the author of the movement’s most important book, Das Kapital. These writings and others by Marx and Engels form the basis of the body of thought and belief known as Marxism. (See also socialism; communism.)', 'Birth Date': 'May 5, 1818Trier, Germany', 'Date Of Demise': 'March 14, 1883 (aged 64)London, England'}]\n",
            "[{'Author Name': 'Benedict de Spinoza', 'Occupation': 'Dutch-Jewish philosopher', 'Image Link': 'https://cdn.britannica.com/s:250x250,c:crop/82/125982-050-E7953CAA/Benedict-de-Spinoza.jpg', 'Surmary About The Author': 'Benedict de Spinoza, Hebrew forename Baruch, Latin forename Benedictus, Portuguese Bento de Espinosa,  (born November 24, 1632, Amsterdam—died February 21, 1677, The Hague), Dutch Jewish philosopher, one of the foremost exponents of 17th-century Rationalism and one of the early and seminal figures of the Enlightenment. His masterwork is the treatise Ethics (1677).', 'Birth Date': 'November 24, 1632Amsterdam, Netherlands', 'Date Of Demise': 'February 21, 1677 (aged 44)The Hague, Netherlands'}]\n",
            "[{'Author Name': 'Adam Smith', 'Occupation': 'Scottish philosopher', 'Image Link': 'https://cdn.britannica.com/s:250x250,c:crop/13/60213-050-CE6A640C/Adam-Smith-paste-medallion-James-Tassie-Scottish-1787.jpg', 'Surmary About The Author': 'Adam Smith,  (baptized June 5, 1723, Kirkcaldy, Fife, Scotland—died July 17, 1790, Edinburgh), Scottish social philosopher and political economist.', 'Birth Date': 'June 5, 1723', 'Date Of Demise': 'July 17, 1790Edinburgh, Scotland'}]\n",
            "[{'Author Name': 'John Locke', 'Occupation': 'English philosopher', 'Image Link': 'https://cdn.britannica.com/s:250x250,c:crop/99/82299-050-023B9807/John-Locke-oil-canvas-Herman-Verelst-National.jpg', 'Surmary About The Author': 'John Locke,  (born August 29, 1632, Wrington, Somerset, England—died October 28, 1704, High Laver, Essex), English philosopher whose works lie at the foundation of modern philosophical empiricism and political liberalism. He was an inspirer of both the European Enlightenment and the Constitution of the United States. His philosophical thinking was close to that of the founders of modern science, especially Robert Boyle, Sir Isaac Newton, and other members of the Royal Society. His political thought was grounded in the notion of a social contract between citizens and in the importance of toleration, especially in matters of religion. Much of what he advocated in the realm of politics was accepted in England after the Glorious Revolution of 1688–89 and in the United States after the country’s declaration of independence in 1776.', 'Birth Date': 'August 29, 1632Wrington, England', 'Date Of Demise': 'October 28, 1704 (aged 72)Oates, England'}]\n",
            "[{'Author Name': 'Noam Chomsky', 'Occupation': 'American linguist', 'Image Link': 'https://cdn.britannica.com/s:250x250,c:crop/11/198711-050-F6B12B32/Noam-Chomsky-2010.jpg', 'Surmary About The Author': 'Noam Chomsky, in full Avram Noam Chomsky,  (born December 7, 1928, Philadelphia, Pennsylvania, U.S.), American theoretical linguist whose work from the 1950s revolutionized the field of linguistics by treating language as a uniquely human, biologically based cognitive capacity. Through his contributions to linguistics and related fields, including cognitive psychology and the philosophies of mind and language, Chomsky helped to initiate and sustain what came to be known as the “cognitive revolution.” Chomsky also gained a worldwide following as a political dissident for his analyses of the pernicious influence of economic elites on U.S. domestic politics, foreign policy, and intellectual culture.', 'Birth Date': 'December 7, 1928 (age 92)Philadelphia, Pennsylvania', 'Date Of Demise': '“Necessary Illusions: Thought Control in Democratic Societies” “The Logical Structure of Linguistic Theory” “Syntactic Structures” “Aspects of the Theory of Syntax”'}]\n",
            "[{'Author Name': 'Immanuel Kant', 'Occupation': 'German philosopher', 'Image Link': 'https://cdn.britannica.com/marketing/300x90 On-site Climate Action ads-04.png', 'Surmary About The Author': 'Immanuel Kant,  (born April 22, 1724, Königsberg, Prussia [now Kaliningrad, Russia]—died February 12, 1804, Königsberg), German philosopher whose comprehensive and systematic work in epistemology (the theory of knowledge), ethics, and aesthetics greatly influenced all subsequent philosophy, especially the various schools of Kantianism and idealism.', 'Birth Date': 'April 22, 1724Kaliningrad, Prussia', 'Date Of Demise': 'February 12, 1804 (aged 79)Kaliningrad, Prussia'}]\n",
            "[{'Author Name': 'René Descartes', 'Occupation': 'French mathematician and philosopher', 'Image Link': 'https://cdn.britannica.com/marketing/300x90 On-site Climate Action ads-04.png', 'Surmary About The Author': 'René Descartes,  (born March 31, 1596, La Haye, Touraine, France—died February 11, 1650, Stockholm, Sweden), French mathematician, scientist, and philosopher. Because he was one of the first to abandon Scholastic Aristotelianism, because he formulated the first modern version of mind-body dualism, from which stems the mind-body problem, and because he promoted the development of a new science grounded in observation and experiment, he is generally regarded as the founder of modern philosophy. Applying an original system of methodical doubt, he dismissed apparent knowledge derived from authority, the senses, and reason and erected new epistemic foundations on the basis of the intuition that, when he is thinking, he exists; this he expressed in the dictum “I think, therefore I am” (best known in its Latin formulation, “Cogito, ergo sum,” though originally written in French, “Je pense, donc je suis”). He developed a metaphysical dualism that distinguishes radically between mind, the essence of which is thinking, and matter, the essence of which is extension in three dimensions. Descartes’s metaphysics is rationalist, based on the postulation of innate ideas of mind, matter, and God, but his physics and physiology, based on sensory experience, are mechanistic and empiricist.', 'Birth Date': 'March 31, 1596La Haye, France', 'Date Of Demise': 'February 11, 1650 (aged 53)Stockholm, Sweden'}]\n",
            "[{'Author Name': 'St. Thomas Aquinas', 'Occupation': 'Italian Christian theologian and philosopher', 'Image Link': 'https://cdn.britannica.com/marketing/300x90 On-site Climate Action ads-04.png', 'Surmary About The Author': 'St. Thomas Aquinas, Italian San Tommaso d’Aquino, also called Aquinas, byname Doctor Angelicus (Latin: “Angelic Doctor”),  (born 1224/25, Roccasecca, near Aquino, Terra di Lavoro, Kingdom of Sicily [Italy]—died March 7, 1274, Fossanova, near Terracina, Latium, Papal States; canonized July 18, 1323; feast day January 28, formerly March 7), Italian Dominican theologian, the foremost medieval Scholastic. He developed his own conclusions from Aristotelian premises, notably in the metaphysics of personality, creation, and Providence. As a theologian, he was responsible in his two masterpieces, the Summa theologiae and the Summa contra gentiles, for the classical systematization of Latin theology, and, as a poet, he wrote some of the most gravely beautiful eucharistic hymns in the church’s liturgy. His doctrinal system and the explanations and developments made by his followers are known as Thomism. Although many modern Roman Catholic theologians do not find St. Thomas altogether congenial, he is nevertheless recognized by the Roman Catholic Church as its foremost Western philosopher and theologian.', 'Birth Date': '1224 or 1225Roccasecca', 'Date Of Demise': 'March 7, 1274Fossanova'}]\n",
            "[{'Author Name': 'Plato', 'Occupation': 'Greek philosopher', 'Image Link': 'https://cdn.britannica.com/marketing/300x90 On-site Climate Action ads-04.png', 'Surmary About The Author': 'Plato,  (born 428/427 bce, Athens, Greece—died 348/347, Athens), ancient Greek philosopher, student of Socrates (c. 470–399 bce), teacher of Aristotle (384–322 bce), and founder of the Academy, best known as the author of philosophical works of unparalleled influence.', 'Birth Date': '428 BCE or 427 BCEAthens, ancient Greece', 'Date Of Demise': '348 BCE or 347 BCEAthens, ancient Greece'}]\n",
            "[{'Author Name': 'Francis Bacon', 'Occupation': 'British author, philosopher, and statesman', 'Image Link': 'https://cdn.britannica.com/marketing/300x90 On-site Climate Action ads-04.png', 'Surmary About The Author': 'Francis Bacon, in full Francis Bacon, Viscount Saint Alban, also called (1603–18) Sir Francis Bacon,  (born January 22, 1561, York House, London, England—died April 9, 1626, London), lord chancellor of England (1618–21). A lawyer, statesman, philosopher, and master of the English tongue, he is remembered in literary terms for the sharp worldly wisdom of a few dozen essays; by students of constitutional history for his power as a speaker in Parliament and in famous trials and as James I’s lord chancellor; and intellectually as a man who claimed all knowledge as his province and, after a magisterial survey, urgently advocated new ways by which man might establish a legitimate command over nature for the relief of his estate.', 'Birth Date': 'January 22, 1561London, England', 'Date Of Demise': 'April 9, 1626 (aged 65)London, England'}]\n",
            "[{'Author Name': 'Aristotle', 'Occupation': 'Greek philosopher', 'Image Link': 'https://cdn.britannica.com/s:250x250,c:crop/84/87984-050-7C5547FE/Detail-Roman-copy-portrait-bust-Aristotle-Greek.jpg', 'Surmary About The Author': 'Aristotle, Greek Aristoteles,  (born 384 bce, Stagira, Chalcidice, Greece—died 322, Chalcis, Euboea), ancient Greek philosopher and scientist, one of the greatest intellectual figures of Western history. He was the author of a philosophical and scientific system that became the framework and vehicle for both Christian Scholasticism and medieval Islamic philosophy. Even after the intellectual revolutions of the Renaissance, the Reformation, and the Enlightenment, Aristotelian concepts remained embedded in Western thinking.', 'Birth Date': '384 BCEStagira, ancient Greece', 'Date Of Demise': '322 BCEChalcis, Greece'}]\n",
            "[{'Author Name': 'Georg Wilhelm Friedrich Hegel', 'Occupation': 'German philosopher', 'Image Link': 'https://cdn.britannica.com/s:250x250,c:crop/68/195868-050-BFBDC077/engraving-Georg-Wilhelm-Friedrich-Hegel-Lazarus-Gottlieb.jpg', 'Surmary About The Author': 'Georg Wilhelm Friedrich Hegel,  (born August 27, 1770, Stuttgart, Württemberg [Germany]—died November 14, 1831, Berlin), German philosopher who developed a dialectical scheme that emphasized the progress of history and of ideas from thesis to antithesis and thence to a synthesis.', 'Birth Date': 'August 27, 1770Stuttgart, Germany', 'Date Of Demise': 'November 14, 1831 (aged 61)Berlin, Germany'}]\n",
            "[{'Author Name': 'David Hume', 'Occupation': 'Scottish philosopher', 'Image Link': 'https://cdn.britannica.com/marketing/300x90 On-site Climate Action ads-04.png', 'Surmary About The Author': 'David Hume,  (born May 7 [April 26, Old Style], 1711, Edinburgh, Scotland—died August 25, 1776, Edinburgh), Scottish philosopher, historian, economist, and essayist known especially for his philosophical empiricism and skepticism.', 'Birth Date': 'May 7, 1711Edinburgh, Scotland', 'Date Of Demise': 'August 25, 1776 (aged 65)Edinburgh, Scotland'}]\n",
            "[{'Author Name': 'Niccolò Machiavelli', 'Occupation': 'Italian statesman and writer', 'Image Link': 'https://cdn.britannica.com/s:250x250,c:crop/27/94127-050-836E9D81/Niccolo-Machiavelli-oil-canvas-Santi-di-Tito.jpg', 'Surmary About The Author': 'Niccolò Machiavelli,  (born May 3, 1469, Florence [Italy]—died June 21, 1527, Florence), Italian Renaissance political philosopher and statesman, secretary of the Florentine republic, whose most famous work, The Prince (Il Principe), brought him a reputation as an atheist and an immoral cynic.', 'Birth Date': 'May 3, 1469Florence, Italy', 'Date Of Demise': 'June 21, 1527 (aged 58)Florence, Italy'}]\n"
          ],
          "name": "stdout"
        }
      ]
    },
    {
      "cell_type": "code",
      "metadata": {
        "id": "EKyuEvsA6wCt"
      },
      "source": [
        ""
      ],
      "execution_count": null,
      "outputs": []
    }
  ]
}